{
 "cells": [
  {
   "cell_type": "code",
   "execution_count": 13,
   "metadata": {
    "collapsed": true
   },
   "outputs": [],
   "source": [
    "import pandas as pd\n",
    "import sqlite3\n",
    "import csv\n",
    "import seaborn as sns\n",
    "import matplotlib.pyplot as plt\n",
    "from scipy import stats"
   ]
  },
  {
   "cell_type": "code",
   "execution_count": 2,
   "outputs": [
    {
     "name": "stdout",
     "output_type": "stream",
     "text": [
      "<class 'str'>\n"
     ]
    }
   ],
   "source": [
    "csv_ap = './datacsv/apartments.csv'\n",
    "db = './datadb/apartments.db'\n",
    "print(type(csv_ap))"
   ],
   "metadata": {
    "collapsed": false
   }
  },
  {
   "cell_type": "code",
   "execution_count": 3,
   "outputs": [],
   "source": [
    "conn = sqlite3.connect(db)\n",
    "cursor = conn.cursor()"
   ],
   "metadata": {
    "collapsed": false
   }
  },
  {
   "cell_type": "code",
   "execution_count": 7,
   "outputs": [],
   "source": [
    "with open(csv_ap, \"r\") as csv_file:\n",
    "    csv_reader = csv.reader(csv_file)\n",
    "    headers = next(csv_reader)\n",
    "    create_table = f\"CREATE TABLE IF NOT EXISTS tabela ({', '.join([f'{header} TEXT' for header in headers])});\"\n",
    "    cursor.execute(create_table)\n",
    "    for row in csv_reader:\n",
    "        insert_query = f\"INSERT INTO tabela VALUES ({', '.join(['?' for _ in row])});\"\n",
    "        cursor.execute(insert_query,row)\n",
    "conn.commit()"
   ],
   "metadata": {
    "collapsed": false
   }
  },
  {
   "cell_type": "code",
   "execution_count": 8,
   "outputs": [
    {
     "name": "stdout",
     "output_type": "stream",
     "text": [
      "                                 id      city               type squareMeters  \\\n",
      "0  a01d82c9529f98a54d64b9e061c9a73b  szczecin  apartmentBuilding        105.0   \n",
      "1  8373aa373dbc3fe7ca3b7434166b8766  szczecin           tenement        73.02   \n",
      "2  7d0c31d5409caab173571cce3dcdf702  szczecin       blockOfFlats        68.61   \n",
      "3  3eaa36a59b9354206703b5f6b2f2ff1d  szczecin       blockOfFlats         42.0   \n",
      "4  027b30cebbc49faf3094421b741ddd56  szczecin       blockOfFlats         45.5   \n",
      "\n",
      "  rooms floor floorCount buildYear          latitude         longitude  ...  \\\n",
      "0   4.0   3.0        4.0    2016.0       53.43150295        14.4858204  ...   \n",
      "1   3.0   2.0        3.0                 53.45222222       14.55333333  ...   \n",
      "2   3.0   4.0        4.0    1997.0  53.4562131879767  14.5832223504052  ...   \n",
      "3   2.0   1.0        3.0                 53.46805556       14.53833333  ...   \n",
      "4   2.0   4.0        4.0    1960.0         53.438165           14.5632  ...   \n",
      "\n",
      "  pharmacyDistance    ownership buildingMaterial condition hasParkingSpace  \\\n",
      "0            0.335  condominium            brick   premium              no   \n",
      "1             0.28  condominium            brick                        no   \n",
      "2            0.304  condominium            brick                        no   \n",
      "3            0.257  condominium                                         no   \n",
      "4            0.273  condominium     concreteSlab       low              no   \n",
      "\n",
      "  hasBalcony hasElevator hasSecurity hasStorageRoom    price  \n",
      "0        yes         yes          no             no  1199999  \n",
      "1         no          no          no             no   650000  \n",
      "2        yes          no          no            yes   590000  \n",
      "3        yes          no          no             no   584999  \n",
      "4         no          no          no            yes   363000  \n",
      "\n",
      "[5 rows x 28 columns]\n"
     ]
    }
   ],
   "source": [
    "df = pd.read_sql_query(\"SELECT * FROM tabela\", conn)"
   ],
   "metadata": {
    "collapsed": false
   }
  },
  {
   "cell_type": "code",
   "execution_count": 10,
   "outputs": [],
   "source": [
    "conn.close()"
   ],
   "metadata": {
    "collapsed": false
   }
  },
  {
   "cell_type": "code",
   "execution_count": 11,
   "outputs": [
    {
     "data": {
      "text/plain": "                                 id      city               type squareMeters  \\\n0  a01d82c9529f98a54d64b9e061c9a73b  szczecin  apartmentBuilding        105.0   \n1  8373aa373dbc3fe7ca3b7434166b8766  szczecin           tenement        73.02   \n2  7d0c31d5409caab173571cce3dcdf702  szczecin       blockOfFlats        68.61   \n3  3eaa36a59b9354206703b5f6b2f2ff1d  szczecin       blockOfFlats         42.0   \n4  027b30cebbc49faf3094421b741ddd56  szczecin       blockOfFlats         45.5   \n\n  rooms floor floorCount buildYear          latitude         longitude  ...  \\\n0   4.0   3.0        4.0    2016.0       53.43150295        14.4858204  ...   \n1   3.0   2.0        3.0                 53.45222222       14.55333333  ...   \n2   3.0   4.0        4.0    1997.0  53.4562131879767  14.5832223504052  ...   \n3   2.0   1.0        3.0                 53.46805556       14.53833333  ...   \n4   2.0   4.0        4.0    1960.0         53.438165           14.5632  ...   \n\n  pharmacyDistance    ownership buildingMaterial condition hasParkingSpace  \\\n0            0.335  condominium            brick   premium              no   \n1             0.28  condominium            brick                        no   \n2            0.304  condominium            brick                        no   \n3            0.257  condominium                                         no   \n4            0.273  condominium     concreteSlab       low              no   \n\n  hasBalcony hasElevator hasSecurity hasStorageRoom    price  \n0        yes         yes          no             no  1199999  \n1         no          no          no             no   650000  \n2        yes          no          no            yes   590000  \n3        yes          no          no             no   584999  \n4         no          no          no            yes   363000  \n\n[5 rows x 28 columns]",
      "text/html": "<div>\n<style scoped>\n    .dataframe tbody tr th:only-of-type {\n        vertical-align: middle;\n    }\n\n    .dataframe tbody tr th {\n        vertical-align: top;\n    }\n\n    .dataframe thead th {\n        text-align: right;\n    }\n</style>\n<table border=\"1\" class=\"dataframe\">\n  <thead>\n    <tr style=\"text-align: right;\">\n      <th></th>\n      <th>id</th>\n      <th>city</th>\n      <th>type</th>\n      <th>squareMeters</th>\n      <th>rooms</th>\n      <th>floor</th>\n      <th>floorCount</th>\n      <th>buildYear</th>\n      <th>latitude</th>\n      <th>longitude</th>\n      <th>...</th>\n      <th>pharmacyDistance</th>\n      <th>ownership</th>\n      <th>buildingMaterial</th>\n      <th>condition</th>\n      <th>hasParkingSpace</th>\n      <th>hasBalcony</th>\n      <th>hasElevator</th>\n      <th>hasSecurity</th>\n      <th>hasStorageRoom</th>\n      <th>price</th>\n    </tr>\n  </thead>\n  <tbody>\n    <tr>\n      <th>0</th>\n      <td>a01d82c9529f98a54d64b9e061c9a73b</td>\n      <td>szczecin</td>\n      <td>apartmentBuilding</td>\n      <td>105.0</td>\n      <td>4.0</td>\n      <td>3.0</td>\n      <td>4.0</td>\n      <td>2016.0</td>\n      <td>53.43150295</td>\n      <td>14.4858204</td>\n      <td>...</td>\n      <td>0.335</td>\n      <td>condominium</td>\n      <td>brick</td>\n      <td>premium</td>\n      <td>no</td>\n      <td>yes</td>\n      <td>yes</td>\n      <td>no</td>\n      <td>no</td>\n      <td>1199999</td>\n    </tr>\n    <tr>\n      <th>1</th>\n      <td>8373aa373dbc3fe7ca3b7434166b8766</td>\n      <td>szczecin</td>\n      <td>tenement</td>\n      <td>73.02</td>\n      <td>3.0</td>\n      <td>2.0</td>\n      <td>3.0</td>\n      <td></td>\n      <td>53.45222222</td>\n      <td>14.55333333</td>\n      <td>...</td>\n      <td>0.28</td>\n      <td>condominium</td>\n      <td>brick</td>\n      <td></td>\n      <td>no</td>\n      <td>no</td>\n      <td>no</td>\n      <td>no</td>\n      <td>no</td>\n      <td>650000</td>\n    </tr>\n    <tr>\n      <th>2</th>\n      <td>7d0c31d5409caab173571cce3dcdf702</td>\n      <td>szczecin</td>\n      <td>blockOfFlats</td>\n      <td>68.61</td>\n      <td>3.0</td>\n      <td>4.0</td>\n      <td>4.0</td>\n      <td>1997.0</td>\n      <td>53.4562131879767</td>\n      <td>14.5832223504052</td>\n      <td>...</td>\n      <td>0.304</td>\n      <td>condominium</td>\n      <td>brick</td>\n      <td></td>\n      <td>no</td>\n      <td>yes</td>\n      <td>no</td>\n      <td>no</td>\n      <td>yes</td>\n      <td>590000</td>\n    </tr>\n    <tr>\n      <th>3</th>\n      <td>3eaa36a59b9354206703b5f6b2f2ff1d</td>\n      <td>szczecin</td>\n      <td>blockOfFlats</td>\n      <td>42.0</td>\n      <td>2.0</td>\n      <td>1.0</td>\n      <td>3.0</td>\n      <td></td>\n      <td>53.46805556</td>\n      <td>14.53833333</td>\n      <td>...</td>\n      <td>0.257</td>\n      <td>condominium</td>\n      <td></td>\n      <td></td>\n      <td>no</td>\n      <td>yes</td>\n      <td>no</td>\n      <td>no</td>\n      <td>no</td>\n      <td>584999</td>\n    </tr>\n    <tr>\n      <th>4</th>\n      <td>027b30cebbc49faf3094421b741ddd56</td>\n      <td>szczecin</td>\n      <td>blockOfFlats</td>\n      <td>45.5</td>\n      <td>2.0</td>\n      <td>4.0</td>\n      <td>4.0</td>\n      <td>1960.0</td>\n      <td>53.438165</td>\n      <td>14.5632</td>\n      <td>...</td>\n      <td>0.273</td>\n      <td>condominium</td>\n      <td>concreteSlab</td>\n      <td>low</td>\n      <td>no</td>\n      <td>no</td>\n      <td>no</td>\n      <td>no</td>\n      <td>yes</td>\n      <td>363000</td>\n    </tr>\n  </tbody>\n</table>\n<p>5 rows × 28 columns</p>\n</div>"
     },
     "execution_count": 11,
     "metadata": {},
     "output_type": "execute_result"
    }
   ],
   "source": [
    "df.head()"
   ],
   "metadata": {
    "collapsed": false
   }
  },
  {
   "cell_type": "code",
   "execution_count": 15,
   "outputs": [
    {
     "data": {
      "text/plain": "count      15521\nunique      2472\ntop       599000\nfreq         234\nName: price, dtype: object"
     },
     "execution_count": 15,
     "metadata": {},
     "output_type": "execute_result"
    }
   ],
   "source": [
    "df['price'].describe()"
   ],
   "metadata": {
    "collapsed": false
   }
  }
 ],
 "metadata": {
  "kernelspec": {
   "display_name": "Python 3",
   "language": "python",
   "name": "python3"
  },
  "language_info": {
   "codemirror_mode": {
    "name": "ipython",
    "version": 2
   },
   "file_extension": ".py",
   "mimetype": "text/x-python",
   "name": "python",
   "nbconvert_exporter": "python",
   "pygments_lexer": "ipython2",
   "version": "2.7.6"
  }
 },
 "nbformat": 4,
 "nbformat_minor": 0
}
