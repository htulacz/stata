{
 "cells": [
  {
   "cell_type": "code",
   "execution_count": 1,
   "metadata": {
    "collapsed": true
   },
   "outputs": [],
   "source": [
    "import pandas as pd\n",
    "import sqlite3\n",
    "import csv\n",
    "import seaborn as sns\n",
    "import matplotlib.pyplot as plt\n",
    "from scipy import stats"
   ]
  },
  {
   "cell_type": "code",
   "execution_count": 2,
   "outputs": [],
   "source": [
    "csv_ap = './datacsv/apartments.csv'\n",
    "db = './datadb/apartments.db'"
   ],
   "metadata": {
    "collapsed": false
   }
  },
  {
   "cell_type": "code",
   "execution_count": 13,
   "outputs": [],
   "source": [
    "conn = sqlite3.connect(db)\n",
    "cursor = conn.cursor()"
   ],
   "metadata": {
    "collapsed": false
   }
  },
  {
   "cell_type": "code",
   "execution_count": 6,
   "outputs": [],
   "source": [
    "with open(csv_ap, \"r\") as csv_file:\n",
    "    csv_reader = csv.reader(csv_file)\n",
    "    headers = next(csv_reader)\n",
    "    create_table = f\"CREATE TABLE IF NOT EXISTS tabela ({headers[0]} TEXT, {headers[1]} TEXT, {headers[2]} TEXT, {headers[3]} FLOAT, {headers[4]} INTEGER, {headers[5]} INTEGER, {headers[6]} INTEGER, {headers[7]} INTEGER, {headers[8]} FLOAT, {headers[9]} FLOAT, {headers[10]} FLOAT, {headers[11]} INTEGER, {headers[12]} FLOAT, {headers[13]} FLOAT, {headers[14]} FLOAT, {headers[15]} FLOAT, {headers[16]} FLOAT, {headers[17]} FLOAT, {headers[18]} FLOAT, {headers[19]} TEXT, {headers[20]} TEXT, {headers[21]} TEXT, {headers[22]} TEXT, {headers[23]} TEXT, {headers[24]} TEXT, {headers[25]} TEXT, {headers[26]} TEXT, {headers[27]} FLOAT);\"\n",
    "    cursor.execute(create_table)\n",
    "    for row in csv_reader:\n",
    "        insert_query = f\"INSERT INTO tabela VALUES ({', '.join(['?' for _ in row])});\"\n",
    "        cursor.execute(insert_query,row)\n",
    "conn.commit()"
   ],
   "metadata": {
    "collapsed": false
   }
  },
  {
   "cell_type": "code",
   "execution_count": 3,
   "outputs": [],
   "source": [
    "df = pd.read_csv(csv_ap)"
   ],
   "metadata": {
    "collapsed": false
   }
  },
  {
   "cell_type": "code",
   "execution_count": 4,
   "outputs": [
    {
     "ename": "NameError",
     "evalue": "name 'conn' is not defined",
     "output_type": "error",
     "traceback": [
      "\u001B[0;31m---------------------------------------------------------------------------\u001B[0m",
      "\u001B[0;31mNameError\u001B[0m                                 Traceback (most recent call last)",
      "Cell \u001B[0;32mIn[4], line 1\u001B[0m\n\u001B[0;32m----> 1\u001B[0m \u001B[43mconn\u001B[49m\u001B[38;5;241m.\u001B[39mclose()\n",
      "\u001B[0;31mNameError\u001B[0m: name 'conn' is not defined"
     ]
    }
   ],
   "source": [
    "conn.close()"
   ],
   "metadata": {
    "collapsed": false
   }
  },
  {
   "cell_type": "code",
   "execution_count": 5,
   "outputs": [
    {
     "data": {
      "text/plain": "                                                      id   city  type  \\\nd8c1e667cde9a0331ea266980d35c182 bydgoszcz  blockOfFlats  55.40   3.0   \n893185446be6968f1aa585679b338d83 katowice   blockOfFlats  38.00   2.0   \n1a61eac797cca250bdff3c72be7adb00 gdansk     blockOfFlats  56.00   2.0   \nb50ca75677ef5bccb7c680680f33b4f3 rzeszow             NaN  82.89   4.0   \nd869804df2192d5ad684d44b573f736d poznan              NaN  53.00   2.0   \n8e85fd6813f5d9786da60220dff24d87 warszawa   blockOfFlats  47.00   3.0   \ned8daf0b46a3b5cc5ce6af6a79863eb5 warszawa            NaN  40.53   2.0   \n3604909a9207679f398c9b282eee6173 warszawa       tenement  51.14   2.0   \nc7543df367bc00efd7c583795e062085 lublin         tenement  64.40   2.0   \ncf2f66df5e1232df48fcfe1d5a45f210 warszawa       tenement  68.03   3.0   \n\n                                            squareMeters  rooms   floor  \\\nd8c1e667cde9a0331ea266980d35c182 bydgoszcz           7.0   11.0  1980.0   \n893185446be6968f1aa585679b338d83 katowice            4.0    4.0     NaN   \n1a61eac797cca250bdff3c72be7adb00 gdansk              3.0    4.0  2021.0   \nb50ca75677ef5bccb7c680680f33b4f3 rzeszow             9.0   10.0     NaN   \nd869804df2192d5ad684d44b573f736d poznan              3.0    5.0  2024.0   \n8e85fd6813f5d9786da60220dff24d87 warszawa            7.0   10.0  1968.0   \ned8daf0b46a3b5cc5ce6af6a79863eb5 warszawa            2.0    6.0  2024.0   \n3604909a9207679f398c9b282eee6173 warszawa            3.0    4.0  1960.0   \nc7543df367bc00efd7c583795e062085 lublin              2.0    3.0  1900.0   \ncf2f66df5e1232df48fcfe1d5a45f210 warszawa            2.0    5.0  1901.0   \n\n                                            floorCount  buildYear  latitude  \\\nd8c1e667cde9a0331ea266980d35c182 bydgoszcz   53.124984  18.049752      3.29   \n893185446be6968f1aa585679b338d83 katowice    50.205564  18.968699      6.99   \n1a61eac797cca250bdff3c72be7adb00 gdansk      54.323410  18.619320      3.68   \nb50ca75677ef5bccb7c680680f33b4f3 rzeszow     50.041514  21.985279      1.51   \nd869804df2192d5ad684d44b573f736d poznan      52.398697  16.962315      2.08   \n8e85fd6813f5d9786da60220dff24d87 warszawa    52.234920  20.972800      2.12   \ned8daf0b46a3b5cc5ce6af6a79863eb5 warszawa    52.225040  21.104780      6.93   \n3604909a9207679f398c9b282eee6173 warszawa    52.199230  21.012480      3.66   \nc7543df367bc00efd7c583795e062085 lublin      51.245866  22.574293      0.50   \ncf2f66df5e1232df48fcfe1d5a45f210 warszawa    52.222042  21.012141      1.22   \n\n                                            longitude  ...  \\\nd8c1e667cde9a0331ea266980d35c182 bydgoszcz       21.0  ...   \n893185446be6968f1aa585679b338d83 katowice         0.0  ...   \n1a61eac797cca250bdff3c72be7adb00 gdansk           5.0  ...   \nb50ca75677ef5bccb7c680680f33b4f3 rzeszow         13.0  ...   \nd869804df2192d5ad684d44b573f736d poznan          15.0  ...   \n8e85fd6813f5d9786da60220dff24d87 warszawa        41.0  ...   \ned8daf0b46a3b5cc5ce6af6a79863eb5 warszawa        13.0  ...   \n3604909a9207679f398c9b282eee6173 warszawa        28.0  ...   \nc7543df367bc00efd7c583795e062085 lublin          25.0  ...   \ncf2f66df5e1232df48fcfe1d5a45f210 warszawa        99.0  ...   \n\n                                            restaurantDistance  \\\nd8c1e667cde9a0331ea266980d35c182 bydgoszcz               0.155   \n893185446be6968f1aa585679b338d83 katowice                2.183   \n1a61eac797cca250bdff3c72be7adb00 gdansk                  0.215   \nb50ca75677ef5bccb7c680680f33b4f3 rzeszow                 0.393   \nd869804df2192d5ad684d44b573f736d poznan                  0.069   \n8e85fd6813f5d9786da60220dff24d87 warszawa                0.076   \ned8daf0b46a3b5cc5ce6af6a79863eb5 warszawa                0.052   \n3604909a9207679f398c9b282eee6173 warszawa                0.110   \nc7543df367bc00efd7c583795e062085 lublin                  0.403   \ncf2f66df5e1232df48fcfe1d5a45f210 warszawa                0.159   \n\n                                            collegeDistance  pharmacyDistance  \\\nd8c1e667cde9a0331ea266980d35c182 bydgoszcz      condominium      concreteSlab   \n893185446be6968f1aa585679b338d83 katowice       condominium      concreteSlab   \n1a61eac797cca250bdff3c72be7adb00 gdansk         condominium               NaN   \nb50ca75677ef5bccb7c680680f33b4f3 rzeszow        cooperative      concreteSlab   \nd869804df2192d5ad684d44b573f736d poznan         condominium               NaN   \n8e85fd6813f5d9786da60220dff24d87 warszawa       condominium               NaN   \ned8daf0b46a3b5cc5ce6af6a79863eb5 warszawa       condominium               NaN   \n3604909a9207679f398c9b282eee6173 warszawa       condominium             brick   \nc7543df367bc00efd7c583795e062085 lublin         condominium             brick   \ncf2f66df5e1232df48fcfe1d5a45f210 warszawa       condominium             brick   \n\n                                            condition  hasParkingSpace  \\\nd8c1e667cde9a0331ea266980d35c182 bydgoszcz        NaN               no   \n893185446be6968f1aa585679b338d83 katowice     premium               no   \n1a61eac797cca250bdff3c72be7adb00 gdansk           NaN               no   \nb50ca75677ef5bccb7c680680f33b4f3 rzeszow      premium              yes   \nd869804df2192d5ad684d44b573f736d poznan           NaN               no   \n8e85fd6813f5d9786da60220dff24d87 warszawa         NaN               no   \ned8daf0b46a3b5cc5ce6af6a79863eb5 warszawa         NaN               no   \n3604909a9207679f398c9b282eee6173 warszawa         NaN               no   \nc7543df367bc00efd7c583795e062085 lublin       premium               no   \ncf2f66df5e1232df48fcfe1d5a45f210 warszawa         NaN               no   \n\n                                            hasBalcony  hasElevator  \\\nd8c1e667cde9a0331ea266980d35c182 bydgoszcz         yes          yes   \n893185446be6968f1aa585679b338d83 katowice          yes           no   \n1a61eac797cca250bdff3c72be7adb00 gdansk             no          yes   \nb50ca75677ef5bccb7c680680f33b4f3 rzeszow           yes          yes   \nd869804df2192d5ad684d44b573f736d poznan             no          yes   \n8e85fd6813f5d9786da60220dff24d87 warszawa           no          yes   \ned8daf0b46a3b5cc5ce6af6a79863eb5 warszawa          yes           no   \n3604909a9207679f398c9b282eee6173 warszawa          yes           no   \nc7543df367bc00efd7c583795e062085 lublin             no           no   \ncf2f66df5e1232df48fcfe1d5a45f210 warszawa           no           no   \n\n                                           hasSecurity hasStorageRoom    price  \nd8c1e667cde9a0331ea266980d35c182 bydgoszcz          no            yes   375000  \n893185446be6968f1aa585679b338d83 katowice           no            yes   319900  \n1a61eac797cca250bdff3c72be7adb00 gdansk             no             no   790000  \nb50ca75677ef5bccb7c680680f33b4f3 rzeszow            no            yes   645000  \nd869804df2192d5ad684d44b573f736d poznan             no             no   522095  \n8e85fd6813f5d9786da60220dff24d87 warszawa           no             no   787000  \ned8daf0b46a3b5cc5ce6af6a79863eb5 warszawa           no             no   670000  \n3604909a9207679f398c9b282eee6173 warszawa           no            yes   999000  \nc7543df367bc00efd7c583795e062085 lublin             no             no   647900  \ncf2f66df5e1232df48fcfe1d5a45f210 warszawa           no             no  1850000  \n\n[10 rows x 26 columns]",
      "text/html": "<div>\n<style scoped>\n    .dataframe tbody tr th:only-of-type {\n        vertical-align: middle;\n    }\n\n    .dataframe tbody tr th {\n        vertical-align: top;\n    }\n\n    .dataframe thead th {\n        text-align: right;\n    }\n</style>\n<table border=\"1\" class=\"dataframe\">\n  <thead>\n    <tr style=\"text-align: right;\">\n      <th></th>\n      <th></th>\n      <th>id</th>\n      <th>city</th>\n      <th>type</th>\n      <th>squareMeters</th>\n      <th>rooms</th>\n      <th>floor</th>\n      <th>floorCount</th>\n      <th>buildYear</th>\n      <th>latitude</th>\n      <th>longitude</th>\n      <th>...</th>\n      <th>restaurantDistance</th>\n      <th>collegeDistance</th>\n      <th>pharmacyDistance</th>\n      <th>condition</th>\n      <th>hasParkingSpace</th>\n      <th>hasBalcony</th>\n      <th>hasElevator</th>\n      <th>hasSecurity</th>\n      <th>hasStorageRoom</th>\n      <th>price</th>\n    </tr>\n  </thead>\n  <tbody>\n    <tr>\n      <th>d8c1e667cde9a0331ea266980d35c182</th>\n      <th>bydgoszcz</th>\n      <td>blockOfFlats</td>\n      <td>55.40</td>\n      <td>3.0</td>\n      <td>7.0</td>\n      <td>11.0</td>\n      <td>1980.0</td>\n      <td>53.124984</td>\n      <td>18.049752</td>\n      <td>3.29</td>\n      <td>21.0</td>\n      <td>...</td>\n      <td>0.155</td>\n      <td>condominium</td>\n      <td>concreteSlab</td>\n      <td>NaN</td>\n      <td>no</td>\n      <td>yes</td>\n      <td>yes</td>\n      <td>no</td>\n      <td>yes</td>\n      <td>375000</td>\n    </tr>\n    <tr>\n      <th>893185446be6968f1aa585679b338d83</th>\n      <th>katowice</th>\n      <td>blockOfFlats</td>\n      <td>38.00</td>\n      <td>2.0</td>\n      <td>4.0</td>\n      <td>4.0</td>\n      <td>NaN</td>\n      <td>50.205564</td>\n      <td>18.968699</td>\n      <td>6.99</td>\n      <td>0.0</td>\n      <td>...</td>\n      <td>2.183</td>\n      <td>condominium</td>\n      <td>concreteSlab</td>\n      <td>premium</td>\n      <td>no</td>\n      <td>yes</td>\n      <td>no</td>\n      <td>no</td>\n      <td>yes</td>\n      <td>319900</td>\n    </tr>\n    <tr>\n      <th>1a61eac797cca250bdff3c72be7adb00</th>\n      <th>gdansk</th>\n      <td>blockOfFlats</td>\n      <td>56.00</td>\n      <td>2.0</td>\n      <td>3.0</td>\n      <td>4.0</td>\n      <td>2021.0</td>\n      <td>54.323410</td>\n      <td>18.619320</td>\n      <td>3.68</td>\n      <td>5.0</td>\n      <td>...</td>\n      <td>0.215</td>\n      <td>condominium</td>\n      <td>NaN</td>\n      <td>NaN</td>\n      <td>no</td>\n      <td>no</td>\n      <td>yes</td>\n      <td>no</td>\n      <td>no</td>\n      <td>790000</td>\n    </tr>\n    <tr>\n      <th>b50ca75677ef5bccb7c680680f33b4f3</th>\n      <th>rzeszow</th>\n      <td>NaN</td>\n      <td>82.89</td>\n      <td>4.0</td>\n      <td>9.0</td>\n      <td>10.0</td>\n      <td>NaN</td>\n      <td>50.041514</td>\n      <td>21.985279</td>\n      <td>1.51</td>\n      <td>13.0</td>\n      <td>...</td>\n      <td>0.393</td>\n      <td>cooperative</td>\n      <td>concreteSlab</td>\n      <td>premium</td>\n      <td>yes</td>\n      <td>yes</td>\n      <td>yes</td>\n      <td>no</td>\n      <td>yes</td>\n      <td>645000</td>\n    </tr>\n    <tr>\n      <th>d869804df2192d5ad684d44b573f736d</th>\n      <th>poznan</th>\n      <td>NaN</td>\n      <td>53.00</td>\n      <td>2.0</td>\n      <td>3.0</td>\n      <td>5.0</td>\n      <td>2024.0</td>\n      <td>52.398697</td>\n      <td>16.962315</td>\n      <td>2.08</td>\n      <td>15.0</td>\n      <td>...</td>\n      <td>0.069</td>\n      <td>condominium</td>\n      <td>NaN</td>\n      <td>NaN</td>\n      <td>no</td>\n      <td>no</td>\n      <td>yes</td>\n      <td>no</td>\n      <td>no</td>\n      <td>522095</td>\n    </tr>\n    <tr>\n      <th>8e85fd6813f5d9786da60220dff24d87</th>\n      <th>warszawa</th>\n      <td>blockOfFlats</td>\n      <td>47.00</td>\n      <td>3.0</td>\n      <td>7.0</td>\n      <td>10.0</td>\n      <td>1968.0</td>\n      <td>52.234920</td>\n      <td>20.972800</td>\n      <td>2.12</td>\n      <td>41.0</td>\n      <td>...</td>\n      <td>0.076</td>\n      <td>condominium</td>\n      <td>NaN</td>\n      <td>NaN</td>\n      <td>no</td>\n      <td>no</td>\n      <td>yes</td>\n      <td>no</td>\n      <td>no</td>\n      <td>787000</td>\n    </tr>\n    <tr>\n      <th>ed8daf0b46a3b5cc5ce6af6a79863eb5</th>\n      <th>warszawa</th>\n      <td>NaN</td>\n      <td>40.53</td>\n      <td>2.0</td>\n      <td>2.0</td>\n      <td>6.0</td>\n      <td>2024.0</td>\n      <td>52.225040</td>\n      <td>21.104780</td>\n      <td>6.93</td>\n      <td>13.0</td>\n      <td>...</td>\n      <td>0.052</td>\n      <td>condominium</td>\n      <td>NaN</td>\n      <td>NaN</td>\n      <td>no</td>\n      <td>yes</td>\n      <td>no</td>\n      <td>no</td>\n      <td>no</td>\n      <td>670000</td>\n    </tr>\n    <tr>\n      <th>3604909a9207679f398c9b282eee6173</th>\n      <th>warszawa</th>\n      <td>tenement</td>\n      <td>51.14</td>\n      <td>2.0</td>\n      <td>3.0</td>\n      <td>4.0</td>\n      <td>1960.0</td>\n      <td>52.199230</td>\n      <td>21.012480</td>\n      <td>3.66</td>\n      <td>28.0</td>\n      <td>...</td>\n      <td>0.110</td>\n      <td>condominium</td>\n      <td>brick</td>\n      <td>NaN</td>\n      <td>no</td>\n      <td>yes</td>\n      <td>no</td>\n      <td>no</td>\n      <td>yes</td>\n      <td>999000</td>\n    </tr>\n    <tr>\n      <th>c7543df367bc00efd7c583795e062085</th>\n      <th>lublin</th>\n      <td>tenement</td>\n      <td>64.40</td>\n      <td>2.0</td>\n      <td>2.0</td>\n      <td>3.0</td>\n      <td>1900.0</td>\n      <td>51.245866</td>\n      <td>22.574293</td>\n      <td>0.50</td>\n      <td>25.0</td>\n      <td>...</td>\n      <td>0.403</td>\n      <td>condominium</td>\n      <td>brick</td>\n      <td>premium</td>\n      <td>no</td>\n      <td>no</td>\n      <td>no</td>\n      <td>no</td>\n      <td>no</td>\n      <td>647900</td>\n    </tr>\n    <tr>\n      <th>cf2f66df5e1232df48fcfe1d5a45f210</th>\n      <th>warszawa</th>\n      <td>tenement</td>\n      <td>68.03</td>\n      <td>3.0</td>\n      <td>2.0</td>\n      <td>5.0</td>\n      <td>1901.0</td>\n      <td>52.222042</td>\n      <td>21.012141</td>\n      <td>1.22</td>\n      <td>99.0</td>\n      <td>...</td>\n      <td>0.159</td>\n      <td>condominium</td>\n      <td>brick</td>\n      <td>NaN</td>\n      <td>no</td>\n      <td>no</td>\n      <td>no</td>\n      <td>no</td>\n      <td>no</td>\n      <td>1850000</td>\n    </tr>\n  </tbody>\n</table>\n<p>10 rows × 26 columns</p>\n</div>"
     },
     "execution_count": 5,
     "metadata": {},
     "output_type": "execute_result"
    }
   ],
   "source": [
    "df.sample(10)"
   ],
   "metadata": {
    "collapsed": false
   }
  },
  {
   "cell_type": "code",
   "execution_count": 8,
   "outputs": [
    {
     "name": "stdout",
     "output_type": "stream",
     "text": [
      "<class 'pandas.core.frame.DataFrame'>\n",
      "MultiIndex: 0 entries\n",
      "Data columns (total 26 columns):\n",
      " #   Column                Non-Null Count  Dtype  \n",
      "---  ------                --------------  -----  \n",
      " 0   id                    0 non-null      object \n",
      " 1   city                  0 non-null      float64\n",
      " 2   type                  0 non-null      float64\n",
      " 3   squareMeters          0 non-null      float64\n",
      " 4   rooms                 0 non-null      float64\n",
      " 5   floor                 0 non-null      float64\n",
      " 6   floorCount            0 non-null      float64\n",
      " 7   buildYear             0 non-null      float64\n",
      " 8   latitude              0 non-null      float64\n",
      " 9   longitude             0 non-null      float64\n",
      " 10  centreDistance        0 non-null      float64\n",
      " 11  poiCount              0 non-null      float64\n",
      " 12  schoolDistance        0 non-null      float64\n",
      " 13  clinicDistance        0 non-null      float64\n",
      " 14  postOfficeDistance    0 non-null      float64\n",
      " 15  kindergartenDistance  0 non-null      float64\n",
      " 16  restaurantDistance    0 non-null      float64\n",
      " 17  collegeDistance       0 non-null      object \n",
      " 18  pharmacyDistance      0 non-null      object \n",
      " 19  condition             0 non-null      object \n",
      " 20  hasParkingSpace       0 non-null      object \n",
      " 21  hasBalcony            0 non-null      object \n",
      " 22  hasElevator           0 non-null      object \n",
      " 23  hasSecurity           0 non-null      object \n",
      " 24  hasStorageRoom        0 non-null      object \n",
      " 25  price                 0 non-null      int64  \n",
      "dtypes: float64(16), int64(1), object(9)\n",
      "memory usage: 638.0+ KB\n"
     ]
    },
    {
     "data": {
      "text/plain": "(0, 26)"
     },
     "execution_count": 8,
     "metadata": {},
     "output_type": "execute_result"
    }
   ],
   "source": [
    "df.info()\n",
    "df.shape"
   ],
   "metadata": {
    "collapsed": false
   }
  },
  {
   "cell_type": "code",
   "execution_count": 7,
   "outputs": [],
   "source": [
    "df = df[df['city'] == 'krakow']\n"
   ],
   "metadata": {
    "collapsed": false
   }
  },
  {
   "cell_type": "code",
   "execution_count": 9,
   "outputs": [
    {
     "data": {
      "text/plain": "       city  type  squareMeters  rooms  floor  floorCount  buildYear  \\\ncount   0.0   0.0           0.0    0.0    0.0         0.0        0.0   \nmean    NaN   NaN           NaN    NaN    NaN         NaN        NaN   \nstd     NaN   NaN           NaN    NaN    NaN         NaN        NaN   \nmin     NaN   NaN           NaN    NaN    NaN         NaN        NaN   \n25%     NaN   NaN           NaN    NaN    NaN         NaN        NaN   \n50%     NaN   NaN           NaN    NaN    NaN         NaN        NaN   \n75%     NaN   NaN           NaN    NaN    NaN         NaN        NaN   \nmax     NaN   NaN           NaN    NaN    NaN         NaN        NaN   \n\n       latitude  longitude  centreDistance  poiCount  schoolDistance  \\\ncount       0.0        0.0             0.0       0.0             0.0   \nmean        NaN        NaN             NaN       NaN             NaN   \nstd         NaN        NaN             NaN       NaN             NaN   \nmin         NaN        NaN             NaN       NaN             NaN   \n25%         NaN        NaN             NaN       NaN             NaN   \n50%         NaN        NaN             NaN       NaN             NaN   \n75%         NaN        NaN             NaN       NaN             NaN   \nmax         NaN        NaN             NaN       NaN             NaN   \n\n       clinicDistance  postOfficeDistance  kindergartenDistance  \\\ncount             0.0                 0.0                   0.0   \nmean              NaN                 NaN                   NaN   \nstd               NaN                 NaN                   NaN   \nmin               NaN                 NaN                   NaN   \n25%               NaN                 NaN                   NaN   \n50%               NaN                 NaN                   NaN   \n75%               NaN                 NaN                   NaN   \nmax               NaN                 NaN                   NaN   \n\n       restaurantDistance  price  \ncount                 0.0    0.0  \nmean                  NaN    NaN  \nstd                   NaN    NaN  \nmin                   NaN    NaN  \n25%                   NaN    NaN  \n50%                   NaN    NaN  \n75%                   NaN    NaN  \nmax                   NaN    NaN  ",
      "text/html": "<div>\n<style scoped>\n    .dataframe tbody tr th:only-of-type {\n        vertical-align: middle;\n    }\n\n    .dataframe tbody tr th {\n        vertical-align: top;\n    }\n\n    .dataframe thead th {\n        text-align: right;\n    }\n</style>\n<table border=\"1\" class=\"dataframe\">\n  <thead>\n    <tr style=\"text-align: right;\">\n      <th></th>\n      <th>city</th>\n      <th>type</th>\n      <th>squareMeters</th>\n      <th>rooms</th>\n      <th>floor</th>\n      <th>floorCount</th>\n      <th>buildYear</th>\n      <th>latitude</th>\n      <th>longitude</th>\n      <th>centreDistance</th>\n      <th>poiCount</th>\n      <th>schoolDistance</th>\n      <th>clinicDistance</th>\n      <th>postOfficeDistance</th>\n      <th>kindergartenDistance</th>\n      <th>restaurantDistance</th>\n      <th>price</th>\n    </tr>\n  </thead>\n  <tbody>\n    <tr>\n      <th>count</th>\n      <td>0.0</td>\n      <td>0.0</td>\n      <td>0.0</td>\n      <td>0.0</td>\n      <td>0.0</td>\n      <td>0.0</td>\n      <td>0.0</td>\n      <td>0.0</td>\n      <td>0.0</td>\n      <td>0.0</td>\n      <td>0.0</td>\n      <td>0.0</td>\n      <td>0.0</td>\n      <td>0.0</td>\n      <td>0.0</td>\n      <td>0.0</td>\n      <td>0.0</td>\n    </tr>\n    <tr>\n      <th>mean</th>\n      <td>NaN</td>\n      <td>NaN</td>\n      <td>NaN</td>\n      <td>NaN</td>\n      <td>NaN</td>\n      <td>NaN</td>\n      <td>NaN</td>\n      <td>NaN</td>\n      <td>NaN</td>\n      <td>NaN</td>\n      <td>NaN</td>\n      <td>NaN</td>\n      <td>NaN</td>\n      <td>NaN</td>\n      <td>NaN</td>\n      <td>NaN</td>\n      <td>NaN</td>\n    </tr>\n    <tr>\n      <th>std</th>\n      <td>NaN</td>\n      <td>NaN</td>\n      <td>NaN</td>\n      <td>NaN</td>\n      <td>NaN</td>\n      <td>NaN</td>\n      <td>NaN</td>\n      <td>NaN</td>\n      <td>NaN</td>\n      <td>NaN</td>\n      <td>NaN</td>\n      <td>NaN</td>\n      <td>NaN</td>\n      <td>NaN</td>\n      <td>NaN</td>\n      <td>NaN</td>\n      <td>NaN</td>\n    </tr>\n    <tr>\n      <th>min</th>\n      <td>NaN</td>\n      <td>NaN</td>\n      <td>NaN</td>\n      <td>NaN</td>\n      <td>NaN</td>\n      <td>NaN</td>\n      <td>NaN</td>\n      <td>NaN</td>\n      <td>NaN</td>\n      <td>NaN</td>\n      <td>NaN</td>\n      <td>NaN</td>\n      <td>NaN</td>\n      <td>NaN</td>\n      <td>NaN</td>\n      <td>NaN</td>\n      <td>NaN</td>\n    </tr>\n    <tr>\n      <th>25%</th>\n      <td>NaN</td>\n      <td>NaN</td>\n      <td>NaN</td>\n      <td>NaN</td>\n      <td>NaN</td>\n      <td>NaN</td>\n      <td>NaN</td>\n      <td>NaN</td>\n      <td>NaN</td>\n      <td>NaN</td>\n      <td>NaN</td>\n      <td>NaN</td>\n      <td>NaN</td>\n      <td>NaN</td>\n      <td>NaN</td>\n      <td>NaN</td>\n      <td>NaN</td>\n    </tr>\n    <tr>\n      <th>50%</th>\n      <td>NaN</td>\n      <td>NaN</td>\n      <td>NaN</td>\n      <td>NaN</td>\n      <td>NaN</td>\n      <td>NaN</td>\n      <td>NaN</td>\n      <td>NaN</td>\n      <td>NaN</td>\n      <td>NaN</td>\n      <td>NaN</td>\n      <td>NaN</td>\n      <td>NaN</td>\n      <td>NaN</td>\n      <td>NaN</td>\n      <td>NaN</td>\n      <td>NaN</td>\n    </tr>\n    <tr>\n      <th>75%</th>\n      <td>NaN</td>\n      <td>NaN</td>\n      <td>NaN</td>\n      <td>NaN</td>\n      <td>NaN</td>\n      <td>NaN</td>\n      <td>NaN</td>\n      <td>NaN</td>\n      <td>NaN</td>\n      <td>NaN</td>\n      <td>NaN</td>\n      <td>NaN</td>\n      <td>NaN</td>\n      <td>NaN</td>\n      <td>NaN</td>\n      <td>NaN</td>\n      <td>NaN</td>\n    </tr>\n    <tr>\n      <th>max</th>\n      <td>NaN</td>\n      <td>NaN</td>\n      <td>NaN</td>\n      <td>NaN</td>\n      <td>NaN</td>\n      <td>NaN</td>\n      <td>NaN</td>\n      <td>NaN</td>\n      <td>NaN</td>\n      <td>NaN</td>\n      <td>NaN</td>\n      <td>NaN</td>\n      <td>NaN</td>\n      <td>NaN</td>\n      <td>NaN</td>\n      <td>NaN</td>\n      <td>NaN</td>\n    </tr>\n  </tbody>\n</table>\n</div>"
     },
     "execution_count": 9,
     "metadata": {},
     "output_type": "execute_result"
    }
   ],
   "source": [
    "df.describe()"
   ],
   "metadata": {
    "collapsed": false
   }
  }
 ],
 "metadata": {
  "kernelspec": {
   "display_name": "Python 3",
   "language": "python",
   "name": "python3"
  },
  "language_info": {
   "codemirror_mode": {
    "name": "ipython",
    "version": 2
   },
   "file_extension": ".py",
   "mimetype": "text/x-python",
   "name": "python",
   "nbconvert_exporter": "python",
   "pygments_lexer": "ipython2",
   "version": "2.7.6"
  }
 },
 "nbformat": 4,
 "nbformat_minor": 0
}
