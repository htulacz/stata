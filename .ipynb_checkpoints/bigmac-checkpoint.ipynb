{
 "cells": [
  {
   "cell_type": "code",
   "execution_count": 1,
   "metadata": {
    "collapsed": true
   },
   "outputs": [],
   "source": [
    "import pandas as pd\n",
    "import sqlite3\n",
    "import csv"
   ]
  },
  {
   "cell_type": "code",
   "execution_count": 2,
   "outputs": [],
   "source": [
    "csv_bigmac = \"./datacsv/BigMac.csv\"\n",
    "csv_inflation = \"./datacsv/Inflation.csv\"\n",
    "db_bigmac = \"./datadb/bigMac.db\"\n",
    "db_inflation = \"./datadb/inflation.db\""
   ],
   "metadata": {
    "collapsed": false
   }
  },
  {
   "cell_type": "code",
   "execution_count": 3,
   "outputs": [],
   "source": [
    "conn = sqlite3.connect(db_bigmac)\n",
    "cursor = conn.cursor()"
   ],
   "metadata": {
    "collapsed": false
   }
  },
  {
   "cell_type": "code",
   "execution_count": 4,
   "outputs": [],
   "source": [
    "with open(csv_bigmac, \"r\") as csv_file:\n",
    "    csv_reader = csv.reader(csv_file)\n",
    "    headers = next(csv_reader)\n",
    "    create_table_query = f\"CREATE TABLE IF NOT EXISTS tabela ({', '.join([f'{header} TEXT' for header in headers])});\"\n",
    "    cursor.execute(create_table_query)\n",
    "    for row in csv_reader:\n",
    "        insert_query = f\"INSERT INTO tabela VALUES ({', '.join(['?' for _ in row])});\"\n",
    "        cursor.execute(insert_query, row)\n",
    "\n",
    "conn.commit()"
   ],
   "metadata": {
    "collapsed": false
   }
  },
  {
   "cell_type": "code",
   "execution_count": 5,
   "outputs": [],
   "source": [
    "df_bigmac = pd.read_sql_query(\"SELECT * FROM tabela\", conn)"
   ],
   "metadata": {
    "collapsed": false
   }
  },
  {
   "cell_type": "code",
   "execution_count": 6,
   "outputs": [
    {
     "name": "stdout",
     "output_type": "stream",
     "text": [
      "  TEXT        date local_price         dollar_ex      dollar_price  \\\n",
      "0    0  2022-07-31         6.7  1.44843568945539  4.62567999999999   \n",
      "1    1  2022-01-31         6.4  1.41934568164076  4.50912000000001   \n",
      "2    2  2021-07-31        6.55  1.36658694909464  4.79296249999999   \n",
      "3    3  2021-01-31        6.48  1.29996750081248           4.98474   \n",
      "4    4  2020-07-31        6.55  1.43061516452074  4.57845000000001   \n",
      "\n",
      "           dollar_ppp dollar_valuation dollar_adj_valuation  \\\n",
      "0  1.3009708737864067          -10.181               -8.689   \n",
      "1   1.101549053356282           -22.39              -16.259   \n",
      "2   1.159292035398231          -15.169               -8.072   \n",
      "3  1.1448763250883396            -11.9                 -4.3   \n",
      "4   1.147110332749561          -19.817                -15.5   \n",
      "\n",
      "  euro_adj_valuation sterling_adj_valuation   yen_adj_valuation  \\\n",
      "0            -12.345                 -2.724   58.47599999999999   \n",
      "1            -19.096                -15.235  20.316000000000003   \n",
      "2            -15.808                 -9.002              21.575   \n",
      "3              -15.0                    1.6                18.3   \n",
      "4              -17.2                   -5.2                 8.1   \n",
      "\n",
      "    yuan_adj_valuation region  \n",
      "0                5.879    AUS  \n",
      "1              -20.061    AUS  \n",
      "2               -7.724    AUS  \n",
      "3  -6.6000000000000005    AUS  \n",
      "4                 -9.6    AUS  \n"
     ]
    }
   ],
   "source": [
    "print(df_bigmac.head())"
   ],
   "metadata": {
    "collapsed": false
   }
  },
  {
   "cell_type": "code",
   "execution_count": 7,
   "outputs": [],
   "source": [
    "conn.close()"
   ],
   "metadata": {
    "collapsed": false
   }
  },
  {
   "cell_type": "code",
   "execution_count": 8,
   "outputs": [],
   "source": [
    "conn = sqlite3.connect(db_inflation)\n",
    "cursor = conn.cursor()"
   ],
   "metadata": {
    "collapsed": false
   }
  },
  {
   "cell_type": "code",
   "execution_count": 9,
   "outputs": [],
   "source": [
    "with open(csv_inflation, \"r\") as csv_file:\n",
    "    csv_reader = csv.reader(csv_file)\n",
    "    headers = next(csv_reader)\n",
    "    create_table_query = f\"CREATE TABLE IF NOT EXISTS tabela ({', '.join([f'{header} TEXT' for header in headers])});\"\n",
    "    cursor.execute(create_table_query)\n",
    "    for row in csv_reader:\n",
    "        insert_query = f\"INSERT INTO tabela VALUES ({', '.join(['?' for _ in row])});\"\n",
    "        cursor.execute(insert_query, row)\n",
    "\n",
    "conn.commit()"
   ],
   "metadata": {
    "collapsed": false
   }
  },
  {
   "cell_type": "code",
   "execution_count": 10,
   "outputs": [],
   "source": [
    "df_inflation = pd.read_sql_query(\"SELECT * FROM tabela\",conn)"
   ],
   "metadata": {
    "collapsed": false
   }
  },
  {
   "cell_type": "code",
   "execution_count": 11,
   "outputs": [
    {
     "name": "stdout",
     "output_type": "stream",
     "text": [
      "  TEXT location     time             value\n",
      "0    0      AUT  1999-Q4  1.13603909863917\n",
      "1    1      AUT  2000-Q1  1.77751142157447\n",
      "2    2      AUT  2000-Q2  1.87364387378678\n",
      "3    3      AUT  2000-Q3  2.04298291689467\n",
      "4    4      AUT  2000-Q4  2.13187810846334\n"
     ]
    }
   ],
   "source": [
    "print(df_inflation.head())"
   ],
   "metadata": {
    "collapsed": false
   }
  },
  {
   "cell_type": "code",
   "execution_count": 12,
   "outputs": [],
   "source": [
    "conn.close()"
   ],
   "metadata": {
    "collapsed": false
   }
  },
  {
   "cell_type": "code",
   "execution_count": 15,
   "outputs": [
    {
     "name": "stdout",
     "output_type": "stream",
     "text": [
      "         date local_price         dollar_ex      dollar_price  \\\n",
      "0  2022-07-31         6.7  1.44843568945539  4.62567999999999   \n",
      "1  2022-01-31         6.4  1.41934568164076  4.50912000000001   \n",
      "2  2021-07-31        6.55  1.36658694909464  4.79296249999999   \n",
      "3  2021-01-31        6.48  1.29996750081248           4.98474   \n",
      "4  2020-07-31        6.55  1.43061516452074  4.57845000000001   \n",
      "\n",
      "           dollar_ppp region  \n",
      "0  1.3009708737864067    AUS  \n",
      "1   1.101549053356282    AUS  \n",
      "2   1.159292035398231    AUS  \n",
      "3  1.1448763250883396    AUS  \n",
      "4   1.147110332749561    AUS  \n",
      "  location     time             value\n",
      "0      AUT  1999-Q4  1.13603909863917\n",
      "1      AUT  2000-Q1  1.77751142157447\n",
      "2      AUT  2000-Q2  1.87364387378678\n",
      "3      AUT  2000-Q3  2.04298291689467\n",
      "4      AUT  2000-Q4  2.13187810846334\n"
     ]
    }
   ],
   "source": [
    "df_bigmac.drop(columns=['yuan_adj_valuation','yen_adj_valuation','sterling_adj_valuation','euro_adj_valuation','dollar_adj_valuation','dollar_valuation','TEXT'],inplace=True)\n",
    "df_inflation.drop(columns=['TEXT'],inplace=True)"
   ],
   "metadata": {
    "collapsed": false
   }
  }
 ],
 "metadata": {
  "kernelspec": {
   "display_name": "Python 3",
   "language": "python",
   "name": "python3"
  },
  "language_info": {
   "codemirror_mode": {
    "name": "ipython",
    "version": 2
   },
   "file_extension": ".py",
   "mimetype": "text/x-python",
   "name": "python",
   "nbconvert_exporter": "python",
   "pygments_lexer": "ipython2",
   "version": "2.7.6"
  }
 },
 "nbformat": 4,
 "nbformat_minor": 0
}
